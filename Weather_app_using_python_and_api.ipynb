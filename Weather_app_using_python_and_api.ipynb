{
  "nbformat": 4,
  "nbformat_minor": 0,
  "metadata": {
    "colab": {
      "provenance": [],
      "authorship_tag": "ABX9TyM5DhtNl5HUNNqLVLH6Z38D",
      "include_colab_link": true
    },
    "kernelspec": {
      "name": "python3",
      "display_name": "Python 3"
    },
    "language_info": {
      "name": "python"
    }
  },
  "cells": [
    {
      "cell_type": "markdown",
      "metadata": {
        "id": "view-in-github",
        "colab_type": "text"
      },
      "source": [
        "<a href=\"https://colab.research.google.com/github/Tanisha1201/Weather-tracker-project-using-python-and-api/blob/main/Weather_app_using_python_and_api.ipynb\" target=\"_parent\"><img src=\"https://colab.research.google.com/assets/colab-badge.svg\" alt=\"Open In Colab\"/></a>"
      ]
    },
    {
      "cell_type": "code",
      "execution_count": 1,
      "metadata": {
        "colab": {
          "base_uri": "https://localhost:8080/"
        },
        "id": "YdMNLFBjjt0e",
        "outputId": "72ae60f1-bfd2-4730-e69c-7fa8aa4b3f28"
      },
      "outputs": [
        {
          "output_type": "stream",
          "name": "stdout",
          "text": [
            "Requirement already satisfied: requests in /usr/local/lib/python3.11/dist-packages (2.32.3)\n",
            "Requirement already satisfied: charset-normalizer<4,>=2 in /usr/local/lib/python3.11/dist-packages (from requests) (3.4.2)\n",
            "Requirement already satisfied: idna<4,>=2.5 in /usr/local/lib/python3.11/dist-packages (from requests) (3.10)\n",
            "Requirement already satisfied: urllib3<3,>=1.21.1 in /usr/local/lib/python3.11/dist-packages (from requests) (2.5.0)\n",
            "Requirement already satisfied: certifi>=2017.4.17 in /usr/local/lib/python3.11/dist-packages (from requests) (2025.7.14)\n"
          ]
        }
      ],
      "source": [
        "pip install requests"
      ]
    },
    {
      "cell_type": "code",
      "source": [
        "import requests"
      ],
      "metadata": {
        "id": "kkOG4a3CkGAq"
      },
      "execution_count": 2,
      "outputs": []
    },
    {
      "cell_type": "code",
      "source": [
        "api_key='57258d6f44c233594d00655e4ae5cd40'\n",
        "\n",
        "\n"
      ],
      "metadata": {
        "id": "lbsi3BtMkN0g"
      },
      "execution_count": 18,
      "outputs": []
    },
    {
      "cell_type": "code",
      "source": [
        "user_input=input(\"Enter city:\")\n",
        "print(user_input)"
      ],
      "metadata": {
        "colab": {
          "base_uri": "https://localhost:8080/"
        },
        "id": "nG-ZvbNikb6d",
        "outputId": "5b926eee-32d2-4b44-ac3b-c76bd3d2791a"
      },
      "execution_count": 21,
      "outputs": [
        {
          "output_type": "stream",
          "name": "stdout",
          "text": [
            "Enter city:houston\n",
            "houston\n"
          ]
        }
      ]
    },
    {
      "cell_type": "code",
      "source": [
        "weather_data=requests.get(f\"https://api.openweathermap.org/data/2.5/weather?q={user_input}&units=imperial&APPID={api_key}\")\n",
        "if weather_data.json()['cod']=='404':\n",
        "    print(\"No City Found\")\n",
        "else:\n",
        "    weather=weather_data.json()['weather'][0]['main']\n",
        "    temp=round(weather_data.json()['main']['temp'])\n",
        "    print(f\"The weather in {user_input} is {weather}\")\n",
        "    print(f\"The temperature in {user_input} is {temp}ºF\")"
      ],
      "metadata": {
        "colab": {
          "base_uri": "https://localhost:8080/"
        },
        "id": "t-y6-0f1koYC",
        "outputId": "141e7f63-96eb-49f9-db57-b45d1c5bc464"
      },
      "execution_count": 25,
      "outputs": [
        {
          "output_type": "stream",
          "name": "stdout",
          "text": [
            "The weather in houston is Clouds\n",
            "The temperature in houston is 90ºF\n"
          ]
        }
      ]
    },
    {
      "cell_type": "code",
      "source": [],
      "metadata": {
        "id": "XTWFwOEJlEoC"
      },
      "execution_count": null,
      "outputs": []
    }
  ]
}